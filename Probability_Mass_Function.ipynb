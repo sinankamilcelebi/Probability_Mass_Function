{
 "cells": [
  {
   "cell_type": "markdown",
   "metadata": {},
   "source": [
    "* @file     : Probability_Mass_Function.ipynb\n",
    "* @author   : Sinan KAMILCELEBI\n",
    "* @version  : V1.0.0\n",
    "* @date     : 03-May-2019\n",
    "* @brief    : Random Variables and Expectations Example.\n",
    "\n",
    "__Örnek Soru:__ \n",
    "\n",
    "Aşağıda X kesikli rastlantı değişkenine (rastgele değişken) ait olasılık fonksiyonu (PMF) verilmiştir.\n",
    "\n",
    "<p align = \"center\">\n",
    "<img src = \"PMF_question.jpg\" alt = \"PMF Question\" title = \"PMF Question\" width = \"600\" height = \"150\" />\n",
    "</p>\n",
    "\n",
    "Verilen bu olasılık fonksiyonuna göre:\n",
    "\n",
    "<b>A)</b> k kaçtır?   \n",
    "\n",
    "<b>B)</b> PMF'yi tablo şeklinde gösteriniz ve ayrık grafiğini çizdiriniz?\n",
    "\n",
    "<b>C)</b> P(x = 2) kaçtır?\n",
    "\n",
    "<b>D)</b> P(2 < x) kaçtır?\n",
    "\n",
    "<b>E)</b> Beklenen değer kaçtır?\n",
    "\n",
    "<b>F)</b> Var(x) kaçtır?\n",
    "\n",
    "<b>G)</b> Standart sapma kaçtır?\n",
    "\n",
    "<b>H)</b> Dağılım fonksiyonunu bulunuz? (Kümülatif (birikimli) olasılık dağılımını)\n",
    "\n",
    "__Açıklamalar:__   \n",
    "\n",
    "<b>A - B)</b> ΣP(X = x) = 1 ve P(X = x) >= 0 olmalıdır.  \n",
    "\n",
    "<b>D)</b> P(2 < x) = P(x = 3) + P(x = 4)   \n",
    "\n",
    "<b>E)</b> E[X] = Σx * P(X = x) \n",
    "\n",
    "<b>F)</b> Var[X] = E[X ^ 2] - (E[X]) ^ 2)    \n",
    "E[X ^ 2] = Σx ^ 2 * P(X = x)\n",
    "\n",
    "<b>G)</b> Standart sapma = Karekök(Var(x))   \n",
    "\n",
    "<b>H)</b> Dağılım fonksiyonu (Kümülatif Olasılık Dağılımı) oluşturulan PMF tablosuna veya ayrık grafiğinine göre olasılık değerlerinin toplanmasıyla elde edilir."
   ]
  },
  {
   "cell_type": "code",
   "execution_count": 1,
   "metadata": {},
   "outputs": [],
   "source": [
    "import numpy as np\n",
    "import matplotlib.pyplot as plt\n",
    "import seaborn as sns\n",
    "from math import sqrt"
   ]
  },
  {
   "cell_type": "markdown",
   "metadata": {},
   "source": [
    "### Örnek Soru:\n",
    "<b>A)</b> k kaçtır? "
   ]
  },
  {
   "cell_type": "code",
   "execution_count": 2,
   "metadata": {},
   "outputs": [
    {
     "name": "stdout",
     "output_type": "stream",
     "text": [
      "Lütfen 'k1' katsayı değerini giriniz? (k1 >= 0) = 1\n",
      "Lütfen 'k2' katsayı değerini giriniz? (k2 >= 0) = 2\n",
      "Lütfen 'k3' katsayı değerini giriniz? (k3 >= 0) = 3\n",
      "Lütfen 'k4' katsayı değerini giriniz? (k4 >= 0) = 4\n",
      "\n",
      "k =  0.1 olarak bulunmuştur.\n"
     ]
    }
   ],
   "source": [
    "fonksiyon_dizi = []\n",
    "\n",
    "kat_sayi = input(\"Lütfen 'k1' katsayı değerini giriniz? (k1 >= 0) = \")\n",
    "fonksiyon_dizi.append(kat_sayi)\n",
    "kat_sayi = input(\"Lütfen 'k2' katsayı değerini giriniz? (k2 >= 0) = \")\n",
    "fonksiyon_dizi.append(kat_sayi)\n",
    "kat_sayi = input(\"Lütfen 'k3' katsayı değerini giriniz? (k3 >= 0) = \")\n",
    "fonksiyon_dizi.append(kat_sayi)\n",
    "kat_sayi = input(\"Lütfen 'k4' katsayı değerini giriniz? (k4 >= 0) = \")\n",
    "fonksiyon_dizi.append(kat_sayi)\n",
    "\n",
    "fonksiyon = 0\n",
    "for i in fonksiyon_dizi:\n",
    "   fonksiyon = fonksiyon + int(i)\n",
    "\n",
    "print (\"\\nk = \", (1 / fonksiyon), \"olarak bulunmuştur.\")"
   ]
  },
  {
   "cell_type": "markdown",
   "metadata": {},
   "source": [
    "### Örnek Soru:\n",
    "<b>B)</b> PMF'yi tablo şeklinde gösteriniz ve ayrık grafiğini çizdiriniz?"
   ]
  },
  {
   "cell_type": "markdown",
   "metadata": {},
   "source": [
    "<p align = \"center\">\n",
    "<img src = \"PMF_function_table.jpg\" alt = \"PMF Function Table\" title = \"PMF Function Table\" width = \"600\" height = \"150\" />\n",
    "</p>"
   ]
  },
  {
   "cell_type": "code",
   "execution_count": 3,
   "metadata": {},
   "outputs": [
    {
     "data": {
      "image/png": "[encoded data removed]",
      "text/plain": [
       "<Figure size 432x288 with 1 Axes>"
      ]
     },
     "metadata": {
      "needs_background": "light"
     },
     "output_type": "display_data"
    }
   ],
   "source": [
    "#plt.figure(figsize = fig_size)\n",
    "y = [int(fonksiyon_dizi[0]) / fonksiyon, int(fonksiyon_dizi[1]) / fonksiyon, int(fonksiyon_dizi[2]) / fonksiyon, int(fonksiyon_dizi[3]) / fonksiyon]\n",
    "x_labels = [fonksiyon_dizi[0], fonksiyon_dizi[1], fonksiyon_dizi[2], fonksiyon_dizi[3]]\n",
    "x_pos = np.arange(len(y))\n",
    "\n",
    "plt.bar(x_pos, y, color = ['black', 'red', 'green', 'blue'], edgecolor = [\"blue\", \"green\", \"cyan\", \"black\"], linewidth = 5, width = [0.5, 0.5, 0.5, 0.5])\n",
    "\n",
    "plt.title(\"PMF Discrete Graphics\")\n",
    "plt.xticks(x_pos, x_labels);\n",
    "\n",
    "plt.xlabel(\"Outcome\")\n",
    "plt.ylabel(\"Probability\")\n",
    "plt.show();"
   ]
  },
  {
   "cell_type": "markdown",
   "metadata": {},
   "source": [
    "### Örnek Soru:\n",
    "<b>C)</b> P(x = 2) kaçtır?"
   ]
  },
  {
   "cell_type": "code",
   "execution_count": 4,
   "metadata": {},
   "outputs": [
    {
     "name": "stdout",
     "output_type": "stream",
     "text": [
      "P(x = 2) =  0.2\n"
     ]
    }
   ],
   "source": [
    "print(\"P(x = 2) = \", (int(fonksiyon_dizi[1]) / fonksiyon))"
   ]
  },
  {
   "cell_type": "markdown",
   "metadata": {},
   "source": [
    "### Örnek Soru:\n",
    "<b>D)</b> P(2 < x) kaçtır?"
   ]
  },
  {
   "cell_type": "code",
   "execution_count": 5,
   "metadata": {},
   "outputs": [
    {
     "name": "stdout",
     "output_type": "stream",
     "text": [
      "\n",
      "P(2 < x) = P(x = 3) + P(x = 4)\n",
      "\n",
      "P(x = 3) =  0.3\n",
      "P(x = 4) =  0.4\n",
      "\n",
      "P(2 < x) = P(x = 3) + P(x = 4) =  0.7\n"
     ]
    }
   ],
   "source": [
    "print(\"\\nP(2 < x) = P(x = 3) + P(x = 4)\")\n",
    "print(\"\\nP(x = 3) = \", (int(fonksiyon_dizi[2]) / fonksiyon))\n",
    "print(\"P(x = 4) = \", (int(fonksiyon_dizi[3]) / fonksiyon))\n",
    "\n",
    "print(\"\\nP(2 < x) = P(x = 3) + P(x = 4) = \", (int(fonksiyon_dizi[2]) / fonksiyon + int(fonksiyon_dizi[3]) / fonksiyon))"
   ]
  },
  {
   "cell_type": "markdown",
   "metadata": {},
   "source": [
    "### Örnek Soru:\n",
    "<b>E)</b> Beklenen değer kaçtır?"
   ]
  },
  {
   "cell_type": "code",
   "execution_count": 6,
   "metadata": {
    "scrolled": true
   },
   "outputs": [
    {
     "name": "stdout",
     "output_type": "stream",
     "text": [
      "\n",
      "Beklenen Değer:\n",
      "E(x) = M =  3.0\n"
     ]
    }
   ],
   "source": [
    "P1 = (int(fonksiyon_dizi[0]) / fonksiyon)\n",
    "P2 = (int(fonksiyon_dizi[1]) / fonksiyon)\n",
    "P3 = (int(fonksiyon_dizi[2]) / fonksiyon)\n",
    "P4 = (int(fonksiyon_dizi[3]) / fonksiyon)\n",
    "\n",
    "print(\"\\nBeklenen Değer:\")\n",
    "Ex = (float(fonksiyon_dizi[0]) * P1 + float(fonksiyon_dizi[1]) * P2 + float(fonksiyon_dizi[2]) * P3 + float(fonksiyon_dizi[3]) * P4)\n",
    "\n",
    "print(\"E(x) = M = \", Ex)"
   ]
  },
  {
   "cell_type": "markdown",
   "metadata": {},
   "source": [
    "### Örnek Soru:\n",
    "<b>F)</b> Var(x) kaçtır?"
   ]
  },
  {
   "cell_type": "code",
   "execution_count": 7,
   "metadata": {},
   "outputs": [
    {
     "name": "stdout",
     "output_type": "stream",
     "text": [
      "\n",
      "Var(x) = E(x ^ 2) - (E(x)) ^ 2\n",
      "\n",
      "Var(x) =  1.0\n"
     ]
    }
   ],
   "source": [
    "ExSquare = (float(fonksiyon_dizi[0]) * float(fonksiyon_dizi[0]) * P1 + float(fonksiyon_dizi[1]) * float(fonksiyon_dizi[1]) * P2 + float(fonksiyon_dizi[2]) * float(fonksiyon_dizi[2]) * P3 + float(fonksiyon_dizi[3]) * float(fonksiyon_dizi[3]) * P4)\n",
    "\n",
    "Varx = (ExSquare - (Ex * Ex))\n",
    "\n",
    "print(\"\\nVar(x) = E(x ^ 2) - (E(x)) ^ 2\")\n",
    "print(\"\\nVar(x) = \", Varx)"
   ]
  },
  {
   "cell_type": "markdown",
   "metadata": {},
   "source": [
    "### Örnek Soru:\n",
    "<b>G)</b> Standart sapma kaçtır?"
   ]
  },
  {
   "cell_type": "code",
   "execution_count": 8,
   "metadata": {},
   "outputs": [
    {
     "name": "stdout",
     "output_type": "stream",
     "text": [
      "\n",
      "Standart sapma = Karekök(Var(x))\n",
      "\n",
      "Standart sapma =  1.0\n"
     ]
    }
   ],
   "source": [
    "print(\"\\nStandart sapma = Karekök(Var(x))\")\n",
    "\n",
    "print(\"\\nStandart sapma = \", sqrt(Varx))"
   ]
  },
  {
   "cell_type": "markdown",
   "metadata": {},
   "source": [
    "### Örnek Soru:\n",
    "<b>H)</b> Dağılım fonksiyonunu bulunuz? (Kümülatif (birikimli) olasılık dağılımını)"
   ]
  },
  {
   "cell_type": "markdown",
   "metadata": {},
   "source": [
    "<p align = \"center\">\n",
    "<img src = \"PMF_distribution_function.jpg\" alt = \"PMF Distribution Function\" title = \"PMF Distribution Function\" width = \"600\" height = \"400\" />\n",
    "</p>"
   ]
  }
 ],
 "metadata": {
  "kernelspec": {
   "display_name": "Python 3",
   "language": "python",
   "name": "python3"
  },
  "language_info": {
   "codemirror_mode": {
    "name": "ipython",
    "version": 3
   },
   "file_extension": ".py",
   "mimetype": "text/x-python",
   "name": "python",
   "nbconvert_exporter": "python",
   "pygments_lexer": "ipython3",
   "version": "3.7.1"
  }
 },
 "nbformat": 4,
 "nbformat_minor": 2
}
